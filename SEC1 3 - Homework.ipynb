{
 "cells": [
  {
   "cell_type": "code",
   "execution_count": 101,
   "id": "1022e4d8",
   "metadata": {},
   "outputs": [],
   "source": [
    "import pandas as pd\n",
    "import matplotlib.pyplot as plt"
   ]
  },
  {
   "cell_type": "markdown",
   "id": "a98f5070",
   "metadata": {},
   "source": [
    "# 0.) Clean the Apple Data to get a quarterly series of EPS."
   ]
  },
  {
   "cell_type": "code",
   "execution_count": 102,
   "id": "c7f8e883",
   "metadata": {},
   "outputs": [],
   "source": [
    "y=pd.read_csv(\"AAPL_quarterly_financials.csv\")"
   ]
  },
  {
   "cell_type": "code",
   "execution_count": 103,
   "id": "7e1f87ae",
   "metadata": {},
   "outputs": [],
   "source": [
    "y.index=y.name"
   ]
  },
  {
   "cell_type": "code",
   "execution_count": 104,
   "id": "522d3c00",
   "metadata": {},
   "outputs": [],
   "source": [
    "y=pd.DataFrame(y.loc[\"BasicEPS\",:]).iloc[2:,:]"
   ]
  },
  {
   "cell_type": "code",
   "execution_count": 105,
   "id": "d3ae3fed",
   "metadata": {},
   "outputs": [],
   "source": [
    "y.index=pd.to_datetime(y.index)"
   ]
  },
  {
   "cell_type": "code",
   "execution_count": 106,
   "id": "815298ee",
   "metadata": {},
   "outputs": [],
   "source": [
    "y=y.sort_index().fillna(0.)"
   ]
  },
  {
   "cell_type": "markdown",
   "id": "f41c46a9",
   "metadata": {},
   "source": [
    "# 1.) Come up with 6 search terms you think could nowcast earnings. (Different than the ones I used) Add in 3 terms that that you think will not Nowcast earnings. Pull in the gtrends data. Clean it to have a quarterly average."
   ]
  },
  {
   "cell_type": "code",
   "execution_count": 22,
   "id": "77955c65",
   "metadata": {},
   "outputs": [
    {
     "name": "stdout",
     "output_type": "stream",
     "text": [
      "Collecting pytrends\n",
      "  Downloading pytrends-4.9.2-py3-none-any.whl (15 kB)\n",
      "Requirement already satisfied: requests>=2.0 in /Users/weijiayu/anaconda3/lib/python3.11/site-packages (from pytrends) (2.31.0)\n",
      "Requirement already satisfied: pandas>=0.25 in /Users/weijiayu/anaconda3/lib/python3.11/site-packages (from pytrends) (2.0.3)\n",
      "Requirement already satisfied: lxml in /Users/weijiayu/anaconda3/lib/python3.11/site-packages (from pytrends) (4.9.3)\n",
      "Requirement already satisfied: python-dateutil>=2.8.2 in /Users/weijiayu/anaconda3/lib/python3.11/site-packages (from pandas>=0.25->pytrends) (2.8.2)\n",
      "Requirement already satisfied: pytz>=2020.1 in /Users/weijiayu/anaconda3/lib/python3.11/site-packages (from pandas>=0.25->pytrends) (2023.3.post1)\n",
      "Requirement already satisfied: tzdata>=2022.1 in /Users/weijiayu/anaconda3/lib/python3.11/site-packages (from pandas>=0.25->pytrends) (2023.3)\n",
      "Requirement already satisfied: numpy>=1.21.0 in /Users/weijiayu/anaconda3/lib/python3.11/site-packages (from pandas>=0.25->pytrends) (1.24.3)\n",
      "Requirement already satisfied: charset-normalizer<4,>=2 in /Users/weijiayu/anaconda3/lib/python3.11/site-packages (from requests>=2.0->pytrends) (2.0.4)\n",
      "Requirement already satisfied: idna<4,>=2.5 in /Users/weijiayu/anaconda3/lib/python3.11/site-packages (from requests>=2.0->pytrends) (3.4)\n",
      "Requirement already satisfied: urllib3<3,>=1.21.1 in /Users/weijiayu/anaconda3/lib/python3.11/site-packages (from requests>=2.0->pytrends) (1.26.16)\n",
      "Requirement already satisfied: certifi>=2017.4.17 in /Users/weijiayu/anaconda3/lib/python3.11/site-packages (from requests>=2.0->pytrends) (2023.7.22)\n",
      "Requirement already satisfied: six>=1.5 in /Users/weijiayu/anaconda3/lib/python3.11/site-packages (from python-dateutil>=2.8.2->pandas>=0.25->pytrends) (1.16.0)\n",
      "Installing collected packages: pytrends\n",
      "Successfully installed pytrends-4.9.2\n",
      "Note: you may need to restart the kernel to use updated packages.\n"
     ]
    }
   ],
   "source": [
    "pip install pytrends"
   ]
  },
  {
   "cell_type": "code",
   "execution_count": 107,
   "id": "4af5547e",
   "metadata": {},
   "outputs": [],
   "source": [
    "from pytrends.request import TrendReq"
   ]
  },
  {
   "cell_type": "code",
   "execution_count": 108,
   "id": "36446546",
   "metadata": {},
   "outputs": [],
   "source": [
    "# Create pytrends object\n",
    "pytrends = TrendReq(hl='en-US', tz=360)\n",
    "\n",
    "# Set up the keywords and the timeframe\n",
    "keywords = [\"iPhone\", \"Recession\",\"Samsung\",\"Interest Rate\", \"New Phone\",\"Buy iPhone\",\"Sell iPhone\" ,\"Taylor Swift Tickets\",\"Hospital\",\"UCLA\"]  # Add your keywords here\n",
    "start_date = '2004-01-01'\n",
    "end_date = '2024-01-01'\n",
    "\n",
    "# Create an empty DataFrame to store the results\n",
    "df = pd.DataFrame()\n",
    "\n",
    "# Iterate through keywords and fetch data\n",
    "for keyword in keywords:\n",
    "    pytrends.build_payload([keyword], cat=0, timeframe=f'{start_date} {end_date}', geo='', gprop='')\n",
    "    interest_over_time_df = pytrends.interest_over_time()\n",
    "    df[keyword] = interest_over_time_df[keyword]"
   ]
  },
  {
   "cell_type": "code",
   "execution_count": 112,
   "id": "5694510c",
   "metadata": {},
   "outputs": [],
   "source": [
    "X=df.resample(\"Q\").mean()\n",
    "temp = pd.concat([y,X],axis=1).dropna()\n",
    "y = temp[[\"BasicEPS\"]].copy()\n",
    "X = temp.iloc[:,1:].copy()"
   ]
  },
  {
   "cell_type": "markdown",
   "id": "73c7abb8",
   "metadata": {},
   "source": [
    "# 2.) Normalize all the X data"
   ]
  },
  {
   "cell_type": "code",
   "execution_count": 129,
   "id": "51c127db",
   "metadata": {},
   "outputs": [],
   "source": [
    "from sklearn.preprocessing import StandardScaler\n",
    "scaler = StandardScaler()\n",
    "X_scaled = scaler.fit_transform(X)"
   ]
  },
  {
   "cell_type": "markdown",
   "id": "da43d5ef",
   "metadata": {},
   "source": [
    "# 4.) Run a Lasso with lambda of 0.01. Plot a bar chart."
   ]
  },
  {
   "cell_type": "code",
   "execution_count": 145,
   "id": "5124b63b",
   "metadata": {},
   "outputs": [],
   "source": [
    "from sklearn.linear_model import Lasso\n",
    "lasso = Lasso(alpha = 0.01)\n",
    "lasso.fit(X_scaled,y)\n",
    "coefficients = lasso.coef_"
   ]
  },
  {
   "cell_type": "code",
   "execution_count": 146,
   "id": "5e280105",
   "metadata": {},
   "outputs": [
    {
     "data": {
      "image/png": "[encoded data removed]",
      "text/plain": [
       "<Figure size 1800x500 with 1 Axes>"
      ]
     },
     "metadata": {},
     "output_type": "display_data"
    }
   ],
   "source": [
    "plt.figure(figsize = (18,5))\n",
    "plt.bar(range(len(coefficients)),coefficients,tick_label=X.columns)\n",
    "plt.axhline(0.,color = \"red\")\n",
    "plt.show()"
   ]
  },
  {
   "cell_type": "code",
   "execution_count": null,
   "id": "05bfa27c",
   "metadata": {},
   "outputs": [],
   "source": []
  },
  {
   "cell_type": "markdown",
   "id": "e130a2be",
   "metadata": {},
   "source": [
    "# 5.) Do these coefficient magnitudes make sense?"
   ]
  },
  {
   "cell_type": "markdown",
   "id": "1bbbaf8f",
   "metadata": {},
   "source": [
    "I think these coeffecients make sense. The relevent metrics we chose mostly have non-zero coeffecients, while the unrelevent metrics' coeffecients shrink to zero. To be more specific, interest rate, buy iPhone and iPhone have the highest contribution to the prediction of the earnings, which also make sense."
   ]
  },
  {
   "cell_type": "markdown",
   "id": "3a2bd7d7",
   "metadata": {},
   "source": [
    "# 6.) Run a for loop looking at 10 different Lambdas and plot the coefficient magnitude for each."
   ]
  },
  {
   "cell_type": "code",
   "execution_count": null,
   "id": "1f115bee",
   "metadata": {},
   "outputs": [],
   "source": []
  },
  {
   "cell_type": "code",
   "execution_count": null,
   "id": "7a3e12d3",
   "metadata": {},
   "outputs": [],
   "source": []
  },
  {
   "cell_type": "markdown",
   "id": "17b28626",
   "metadata": {},
   "source": [
    "# 7.) Run a cross validation. What is your ideal lambda?"
   ]
  },
  {
   "cell_type": "code",
   "execution_count": null,
   "id": "9fc5cca1",
   "metadata": {},
   "outputs": [],
   "source": []
  },
  {
   "cell_type": "code",
   "execution_count": null,
   "id": "a58a192a",
   "metadata": {},
   "outputs": [],
   "source": []
  }
 ],
 "metadata": {
  "kernelspec": {
   "display_name": "Python 3 (ipykernel)",
   "language": "python",
   "name": "python3"
  },
  "language_info": {
   "codemirror_mode": {
    "name": "ipython",
    "version": 3
   },
   "file_extension": ".py",
   "mimetype": "text/x-python",
   "name": "python",
   "nbconvert_exporter": "python",
   "pygments_lexer": "ipython3",
   "version": "3.11.5"
  }
 },
 "nbformat": 4,
 "nbformat_minor": 5
}
